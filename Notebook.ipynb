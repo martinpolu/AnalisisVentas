{
 "cells": [
  {
   "cell_type": "code",
   "execution_count": 14,
   "id": "e742ad06",
   "metadata": {},
   "outputs": [],
   "source": [
    "from __future__ import print_function\n",
    "import os.path\n",
    "from googleapiclient.discovery import build\n",
    "from google_auth_oauthlib.flow import InstalledAppFlow\n",
    "from google.auth.transport.requests import Request\n",
    "from google.oauth2.credentials import Credentials\n",
    "from Links import Links\n",
    "import pandas as pd\n",
    "import matplotlib.pyplot as plt"
   ]
  },
  {
   "cell_type": "code",
   "execution_count": 15,
   "id": "72207a6f",
   "metadata": {},
   "outputs": [],
   "source": [
    "# If modifying these scopes, delete the file token.json.\n",
    "SCOPES = ['https://www.googleapis.com/auth/spreadsheets.readonly']"
   ]
  },
  {
   "cell_type": "code",
   "execution_count": 18,
   "id": "e62e41e0",
   "metadata": {
    "scrolled": true
   },
   "outputs": [
    {
     "name": "stdout",
     "output_type": "stream",
     "text": [
      "Junio\n",
      "Julio\n",
      "Agosto\n",
      "Septiembre\n",
      "Octubre\n",
      "Noviembre\n",
      "Diciembre\n",
      "Enero\n",
      "Febrero\n",
      "Marzo\n",
      "Abril\n",
      "Mayo\n",
      "Junio\n",
      "Julio\n",
      "Agosto\n",
      "Septiembre\n",
      "Octubre\n",
      "Noviembre\n"
     ]
    }
   ],
   "source": [
    "\"\"\"Shows basic usage of the Sheets API.\n",
    "Prints values from a sample spreadsheet.\n",
    "\"\"\"\n",
    "creds = None\n",
    "# The file token.json stores the user's access and refresh tokens, and is\n",
    "# created automatically when the authorization flow completes for the first\n",
    "# time.\n",
    "if os.path.exists('token.json'):\n",
    "    creds = Credentials.from_authorized_user_file('token.json', SCOPES)\n",
    "# If there are no (valid) credentials available, let the user log in.\n",
    "if not creds or not creds.valid:\n",
    "    if creds and creds.expired and creds.refresh_token:\n",
    "        creds.refresh(Request())\n",
    "    else:\n",
    "        flow = InstalledAppFlow.from_client_secrets_file(\n",
    "            'credentials.json', SCOPES)\n",
    "        creds = flow.run_local_server(port=0)\n",
    "    # Save the credentials for the next run\n",
    "    with open('token.json', 'w') as token:\n",
    "        token.write(creds.to_json())\n",
    "\n",
    "service = build('sheets', 'v4', credentials=creds)\n",
    "CantFernet=[]\n",
    "Mes=[]\n",
    "for j in Links:\n",
    "    print(j['Mes'])\n",
    "    SAMPLE_SPREADSHEET_ID = j['ID']\n",
    "    SAMPLE_RANGE_NAME = j['Mes']+' '+j['Año']+' Ventas!A:G'\n",
    "    dict=[]\n",
    "    dataframe=[]\n",
    "    # Call the Sheets API\n",
    "    sheet = service.spreadsheets()\n",
    "    result = sheet.values().get(spreadsheetId=SAMPLE_SPREADSHEET_ID,\n",
    "                                range=SAMPLE_RANGE_NAME).execute()\n",
    "    values = result.get('values', [])\n",
    "\n",
    "    if not values:\n",
    "        print('No data found.')\n",
    "    else:\n",
    "        for i in values:\n",
    "            dict.append(i)\n",
    "        dataframe=pd.DataFrame(dict,)\n",
    "        dataframe.columns = dataframe.iloc[0]\n",
    "        dataframe = dataframe[1:]\n",
    "        dataframe[\"Fecha\"]=pd.to_datetime(dataframe['Fecha'], format='%d/%m/%Y')\n",
    "    Mes.append(dataframe)\n"
   ]
  },
  {
   "cell_type": "code",
   "execution_count": 25,
   "id": "3dd43acc",
   "metadata": {},
   "outputs": [
    {
     "name": "stdout",
     "output_type": "stream",
     "text": [
      "6 46\n",
      "7 79\n",
      "8 45\n",
      "9 59\n",
      "10 34\n",
      "11 63\n",
      "12 74\n",
      "1 39\n",
      "2 33\n",
      "3 53\n",
      "4 45\n",
      "5 49\n",
      "6 38\n",
      "7 72\n",
      "8 43\n",
      "9 35\n",
      "10 42\n",
      "11 43\n"
     ]
    }
   ],
   "source": [
    "for i in Mes:\n",
    "    print(i.loc[1][\"Fecha\"].month,len(i[i[\"Articulo\"]==\"Branca 750\"]))"
   ]
  },
  {
   "cell_type": "code",
   "execution_count": null,
   "id": "5dede419",
   "metadata": {},
   "outputs": [],
   "source": []
  },
  {
   "cell_type": "code",
   "execution_count": null,
   "id": "116dc66d",
   "metadata": {},
   "outputs": [],
   "source": []
  }
 ],
 "metadata": {
  "kernelspec": {
   "display_name": "Python 3 (ipykernel)",
   "language": "python",
   "name": "python3"
  },
  "language_info": {
   "codemirror_mode": {
    "name": "ipython",
    "version": 3
   },
   "file_extension": ".py",
   "mimetype": "text/x-python",
   "name": "python",
   "nbconvert_exporter": "python",
   "pygments_lexer": "ipython3",
   "version": "3.9.7"
  }
 },
 "nbformat": 4,
 "nbformat_minor": 5
}
